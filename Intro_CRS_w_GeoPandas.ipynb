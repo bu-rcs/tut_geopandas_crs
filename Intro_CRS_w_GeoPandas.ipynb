{
 "cells": [
  {
   "cell_type": "markdown",
   "id": "a6cabe63",
   "metadata": {
    "slideshow": {
     "slide_type": "slide"
    }
   },
   "source": [
    "# Introduction to Coordinate Reference System with GeoPandas\n",
    "\n",
    "- Dennis Milechin, P.E., GISP\n",
    "- <a href=\"http://rcs.bu.edu\">Research Computing Services</a>\n"
   ]
  },
  {
   "cell_type": "markdown",
   "id": "2eb9b1cd",
   "metadata": {
    "slideshow": {
     "slide_type": "slide"
    }
   },
   "source": [
    "# Workshop Outcomes\n",
    "\n",
    "1. Get exposed to GeoPandas Python library syntax and CRS functions. \n",
    "1. Learn about Coordinate Reference System (CRS) and their implications on a GIS project.\n"
   ]
  },
  {
   "cell_type": "markdown",
   "id": "b4801840",
   "metadata": {
    "slideshow": {
     "slide_type": "slide"
    }
   },
   "source": [
    "# Outline\n",
    "\n",
    "1. Introducing GeoPandas\n",
    "1. Importing and Plotting Data\n",
    "1. Understanding Datum/Geographic Coordinate System\n",
    "1. Understanding Projections and Impact on Analysis\n",
    "1. Selecting Coordinate Reference System\n"
   ]
  },
  {
   "cell_type": "markdown",
   "id": "09e40fcd",
   "metadata": {
    "slideshow": {
     "slide_type": "slide"
    }
   },
   "source": [
    "# Introducing GeoPandas\n",
    "\n",
    "> GeoPandas is an open source project to make working with geospatial data in python easier. GeoPandas extends the datatypes used by pandas to allow spatial operations on geometric types. \n",
    "\n",
    "<sup>source: https://geopandas.org/index.html</sup>\n",
    "\n",
    "__Note:__ GeoPandas is for processing vector data.\n",
    "\n",
    "User Guide: https://geopandas.org/docs/user_guide.html"
   ]
  },
  {
   "cell_type": "markdown",
   "id": "e93987b9",
   "metadata": {
    "slideshow": {
     "slide_type": "slide"
    }
   },
   "source": [
    "### Prerequisites to use GeoPandas\n",
    "\n",
    "1. Need Python 3 installed on your machine.\n",
    "1. Dependency packages need to be installed.\n",
    "1. GeoPandas needs to be installed.\n",
    "1. One needs to know Python scripting language.\n",
    "1. Familiarity with \"pandas\" and \"matplotlib\" packages will make things easier."
   ]
  },
  {
   "cell_type": "markdown",
   "id": "9c806273",
   "metadata": {
    "slideshow": {
     "slide_type": "slide"
    }
   },
   "source": [
    "### Setup Instructions\n",
    "\n",
    "See the Git repository for instructions on setting up a conda GeoPandas environment to run this notebook.  \n",
    "https://github.com/milechin/tut_geopandas_crs"
   ]
  },
  {
   "cell_type": "markdown",
   "id": "2c0f66a0",
   "metadata": {
    "slideshow": {
     "slide_type": "slide"
    }
   },
   "source": [
    "Settings some styling and enabling interactive plots for this notebook."
   ]
  },
  {
   "cell_type": "code",
   "execution_count": null,
   "id": "292b8c70",
   "metadata": {
    "slideshow": {
     "slide_type": "fragment"
    }
   },
   "outputs": [],
   "source": [
    "# Styling notebook\n",
    "from IPython.core.display import HTML\n",
    "def css_styling():\n",
    "    styles = open(\"./styles/custom.css\", \"r\").read()\n",
    "    return HTML(styles)\n",
    "css_styling()\n",
    "\n",
    "# Makes plots interactive\n",
    "%matplotlib notebook\n",
    "\n",
    "import matplotlib as mpl\n",
    "mpl.rc('figure', max_open_warning = 0)"
   ]
  },
  {
   "cell_type": "markdown",
   "id": "f652ceda",
   "metadata": {
    "slideshow": {
     "slide_type": "slide"
    }
   },
   "source": [
    "# Importing and Plotting Data\n",
    "\n",
    "Our objective:  \n",
    "1. Show North American countries.\n",
    "1. Show boundaries of the US states.\n",
    "1. Show ports and harbor locations in Alaska."
   ]
  },
  {
   "cell_type": "markdown",
   "id": "bb32c2c5",
   "metadata": {
    "slideshow": {
     "slide_type": "slide"
    }
   },
   "source": [
    "First we need to import the geopandas library."
   ]
  },
  {
   "cell_type": "code",
   "execution_count": null,
   "id": "653fac1c",
   "metadata": {
    "scrolled": true,
    "slideshow": {
     "slide_type": "fragment"
    }
   },
   "outputs": [],
   "source": [
    "import geopandas"
   ]
  },
  {
   "cell_type": "markdown",
   "id": "c5510b96",
   "metadata": {
    "slideshow": {
     "slide_type": "slide"
    }
   },
   "source": [
    "Now use the \"read_file\" function to load a GIS dataset into memory."
   ]
  },
  {
   "cell_type": "code",
   "execution_count": null,
   "id": "c2231bba",
   "metadata": {
    "scrolled": false,
    "slideshow": {
     "slide_type": "fragment"
    }
   },
   "outputs": [],
   "source": [
    "world = geopandas.read_file(geopandas.datasets.get_path('naturalearth_lowres'))\n",
    "world.plot()"
   ]
  },
  {
   "cell_type": "markdown",
   "id": "506e13f9",
   "metadata": {
    "slideshow": {
     "slide_type": "slide"
    }
   },
   "source": [
    "<b>Vector</b> GIS data (such as points, lines, and polygons) have an <b>attribute table</b> associated with it. "
   ]
  },
  {
   "cell_type": "code",
   "execution_count": null,
   "id": "460cbb04",
   "metadata": {
    "slideshow": {
     "slide_type": "fragment"
    }
   },
   "outputs": [],
   "source": [
    "# List the first 5 line of the attribute table.\n",
    "world.head()"
   ]
  },
  {
   "cell_type": "markdown",
   "id": "f9a3f40e",
   "metadata": {
    "slideshow": {
     "slide_type": "slide"
    }
   },
   "source": [
    "Let's filter the data to only include features that are in North America."
   ]
  },
  {
   "cell_type": "code",
   "execution_count": null,
   "id": "b9a0a49c",
   "metadata": {
    "slideshow": {
     "slide_type": "fragment"
    }
   },
   "outputs": [],
   "source": [
    "north_america = world[world[\"continent\"] == \"North America\"]\n",
    "north_america.plot()"
   ]
  },
  {
   "cell_type": "markdown",
   "id": "7002b951",
   "metadata": {
    "slideshow": {
     "slide_type": "slide"
    }
   },
   "source": [
    "We want to show US state boundaries, so we load a shapefile that contains this data."
   ]
  },
  {
   "cell_type": "code",
   "execution_count": null,
   "id": "18e1704f",
   "metadata": {
    "slideshow": {
     "slide_type": "fragment"
    }
   },
   "outputs": [],
   "source": [
    "state_bounds = geopandas.read_file(\"tutorial_files/state_bounds/cb_2018_us_state_20m.shp\")\n",
    "state_bounds.plot()"
   ]
  },
  {
   "cell_type": "markdown",
   "id": "697b8702",
   "metadata": {
    "slideshow": {
     "slide_type": "slide"
    }
   },
   "source": [
    "Let's plot our two layers together on one map."
   ]
  },
  {
   "cell_type": "code",
   "execution_count": null,
   "id": "724d6b07",
   "metadata": {
    "slideshow": {
     "slide_type": "fragment"
    }
   },
   "outputs": [],
   "source": [
    "# Save the returned object from the \"plot\" function as \"base\".\n",
    "base = north_america.plot(color=\"black\") \n",
    "# Specify the \"base\" object as an argument for the axis to plot on.\n",
    "state_bounds.plot(ax=base)"
   ]
  },
  {
   "cell_type": "markdown",
   "id": "f113912a",
   "metadata": {
    "slideshow": {
     "slide_type": "slide"
    }
   },
   "source": [
    "Load the Ports and Harbors of Alaska dataset."
   ]
  },
  {
   "cell_type": "code",
   "execution_count": null,
   "id": "a1b2d851",
   "metadata": {
    "slideshow": {
     "slide_type": "fragment"
    }
   },
   "outputs": [],
   "source": [
    "ak_ports_harbors = geopandas.read_file(\"tutorial_files/ak_ports_harbors/Ports_and_Harbors.shp\")\n",
    "ak_ports_harbors = ak_ports_harbors.to_crs(\"epsg:3467\")\n",
    "ak_ports_harbors.plot()"
   ]
  },
  {
   "cell_type": "markdown",
   "id": "baa66e50",
   "metadata": {
    "slideshow": {
     "slide_type": "slide"
    }
   },
   "source": [
    "Let's plot all three layers together on one map."
   ]
  },
  {
   "cell_type": "code",
   "execution_count": null,
   "id": "a7c172e8",
   "metadata": {
    "slideshow": {
     "slide_type": "fragment"
    }
   },
   "outputs": [],
   "source": [
    "base = north_america.plot(color=\"black\") \n",
    "state_bounds.plot(ax=base)\n",
    "ak_ports_harbors.plot(ax=base)\n"
   ]
  },
  {
   "cell_type": "markdown",
   "id": "cdf2c0da",
   "metadata": {
    "slideshow": {
     "slide_type": "slide"
    }
   },
   "source": [
    "# Understanding Datum/Geographic Coordinate System"
   ]
  },
  {
   "cell_type": "markdown",
   "id": "0d426573",
   "metadata": {
    "slideshow": {
     "slide_type": "slide"
    }
   },
   "source": [
    "### Step 1: Model a General Shape of the Earth (Datum)\n",
    "\n",
    "The earth is generally round, but is not a perfect sphere or very smooth (e.g. mountains and canyons).\n",
    "\n",
    "![alt text](files/images/datum.png)\n",
    "\n",
    "\n",
    "Source: https://www.e-education.psu.edu/geog862/book/export/html/1669 "
   ]
  },
  {
   "cell_type": "markdown",
   "id": "28fda9f4",
   "metadata": {
    "slideshow": {
     "slide_type": "slide"
    }
   },
   "source": [
    "### Geographic Coordinate System (GCS)\n",
    "![alt text](files/images/gcs.png)\n",
    "\n",
    "Source: http://desktop.arcgis.com/en/arcmap/10.3/guide-books/map-projections/about-geographic-coordinate-systems.htm"
   ]
  },
  {
   "cell_type": "markdown",
   "id": "fed3b85e",
   "metadata": {
    "slideshow": {
     "slide_type": "slide"
    }
   },
   "source": [
    "### Geographic Coordinate System (GCS)\n",
    "\n",
    "GCS help define a reference system for finding a location on the datum.\n",
    "\n",
    "<img src=\"files/images/gcs_combined.png\" alt=\"compass\" style=\"width:500px\"/>\n",
    "\n",
    "Source: http://desktop.arcgis.com/en/arcmap/10.3/guide-books/map-projections/geographic-coordinate-system.htm"
   ]
  },
  {
   "cell_type": "markdown",
   "id": "4224c4f1",
   "metadata": {
    "slideshow": {
     "slide_type": "slide"
    }
   },
   "source": [
    "### Geographic Coordinate System (GCS)\n",
    "__Coordinates are associated with a specific GCS.__  Below is an outline of Boston City Hall.  The same coordinates were used to plot the outlines in two different GCSs.\n",
    "\n",
    "<img src=\"files/images/GCS_comparison.png\" alt=\"gcs_comparison\" style=\"width:700px;\"/>\n",
    "\n",
    "The proper GCS for these coordinates is NAD 1927."
   ]
  },
  {
   "cell_type": "markdown",
   "id": "ed5ebf8e",
   "metadata": {
    "slideshow": {
     "slide_type": "slide"
    }
   },
   "source": [
    "## Let's go back to our original project."
   ]
  },
  {
   "cell_type": "markdown",
   "id": "20b96420",
   "metadata": {
    "slideshow": {
     "slide_type": "slide"
    }
   },
   "source": [
    "### GeoPandas CRS Functions\n",
    "\n",
    "<table>\n",
    "<colgroup>\n",
    "<col style=\"width: 10%\" />\n",
    "<col style=\"width: 90%\" />\n",
    "</colgroup>\n",
    "<tbody>\n",
    "<tr ><td><p><a href=\"https://geopandas.org/docs/reference/api/geopandas.GeoDataFrame.crs.html#geopandas.GeoDataFrame.crs\">GeoDataFrame.crs</a></p></td>\n",
    "<td><p>The Coordinate Reference System (CRS) represented as a pyproj.CRSobject.</p></td>\n",
    "</tr>\n",
    "<tr><td><p><a href=\"https://geopandas.org/docs/reference/api/geopandas.GeoDataFrame.to_crs.html#geopandas.GeoDataFrame.to_crs\">GeoDataFrame.to_crs()</a></p></td>\n",
    "<td><p>Transform geometries to a new coordinate reference system.</p></td>\n",
    "</tr>\n",
    "<tr><td><p><a href=\"https://geopandas.org/docs/reference/api/geopandas.GeoDataFrame.set_crs.html#geopandas.GeoDataFrame.set_crs\">GeoDataFrame.set_crs()</a></p></td>\n",
    "    <td><p>Set the Coordinate Reference System (CRS) of the GeoDataFrame. <b>### Only use if data does not have CRS defined! ###</b></p></td>\n",
    "</tr>\n",
    "</tbody>\n",
    "</table>\n",
    "\n"
   ]
  },
  {
   "cell_type": "code",
   "execution_count": null,
   "id": "c17ff364",
   "metadata": {
    "slideshow": {
     "slide_type": "slide"
    }
   },
   "outputs": [],
   "source": [
    "north_america.crs"
   ]
  },
  {
   "cell_type": "code",
   "execution_count": null,
   "id": "b5c0df37",
   "metadata": {
    "slideshow": {
     "slide_type": "slide"
    }
   },
   "outputs": [],
   "source": [
    "state_bounds.crs"
   ]
  },
  {
   "cell_type": "code",
   "execution_count": null,
   "id": "879befab",
   "metadata": {
    "slideshow": {
     "slide_type": "slide"
    }
   },
   "outputs": [],
   "source": [
    "ak_ports_harbors.crs"
   ]
  },
  {
   "cell_type": "markdown",
   "id": "2f0c5d91",
   "metadata": {
    "slideshow": {
     "slide_type": "fragment"
    }
   },
   "source": [
    "Notice this layer indicates it is \"projected\". We will talk about this shortly."
   ]
  },
  {
   "cell_type": "markdown",
   "id": "31436541",
   "metadata": {
    "slideshow": {
     "slide_type": "slide"
    }
   },
   "source": [
    "Let's choose one CRS that we will use for this project."
   ]
  },
  {
   "cell_type": "code",
   "execution_count": null,
   "id": "ce84f2b6",
   "metadata": {
    "slideshow": {
     "slide_type": "fragment"
    }
   },
   "outputs": [],
   "source": [
    "project_crs = north_america.crs\n",
    "\n",
    "state_bounds = state_bounds.to_crs(project_crs)\n",
    "ak_ports_harbors = ak_ports_harbors.to_crs(project_crs)"
   ]
  },
  {
   "cell_type": "markdown",
   "id": "4e944ae1",
   "metadata": {
    "slideshow": {
     "slide_type": "slide"
    }
   },
   "source": [
    "Let's try it again."
   ]
  },
  {
   "cell_type": "code",
   "execution_count": null,
   "id": "aa6ea8ac",
   "metadata": {
    "slideshow": {
     "slide_type": "fragment"
    }
   },
   "outputs": [],
   "source": [
    "base = north_america.plot(color=\"black\") \n",
    "state_bounds.plot(ax=base)\n",
    "ak_ports_harbors.plot(ax=base, color=\"orange\")"
   ]
  },
  {
   "cell_type": "markdown",
   "id": "c8dd3066",
   "metadata": {
    "slideshow": {
     "slide_type": "slide"
    }
   },
   "source": [
    "# Understanding Projections and Impact on Analysis"
   ]
  },
  {
   "cell_type": "markdown",
   "id": "bed22c02",
   "metadata": {
    "slideshow": {
     "slide_type": "slide"
    }
   },
   "source": [
    "### Projections\n",
    "\n",
    "- Allow creation of flat maps\n",
    "- At the expense of distorting:\n",
    "  - shape\n",
    "  - area\n",
    "  - direction\n",
    "  - distance\n",
    " \n"
   ]
  },
  {
   "cell_type": "code",
   "execution_count": null,
   "id": "df113971",
   "metadata": {
    "slideshow": {
     "slide_type": "slide"
    }
   },
   "outputs": [],
   "source": [
    "from IPython.display import YouTubeVideo\n",
    "YouTubeVideo('CPQZ7NcQ6YQ', width=800, height=500)"
   ]
  },
  {
   "cell_type": "markdown",
   "id": "5c340cea",
   "metadata": {
    "slideshow": {
     "slide_type": "slide"
    }
   },
   "source": [
    "There are two types of projections:\n",
    "    \n",
    "- Geographic Projection - Decimal Coordinates\n",
    "- Projected Projection - Coordinates in Feet or Meters"
   ]
  },
  {
   "cell_type": "markdown",
   "id": "5360da5a",
   "metadata": {
    "slideshow": {
     "slide_type": "slide"
    }
   },
   "source": [
    "One way to visualizes distortions is by using Tissot's circles."
   ]
  },
  {
   "cell_type": "code",
   "execution_count": null,
   "id": "a677a4ef",
   "metadata": {
    "slideshow": {
     "slide_type": "fragment"
    }
   },
   "outputs": [],
   "source": [
    "tissots = geopandas.read_file(\"tutorial_files/tissots_circles/Tissots_circles.shp\")\n",
    "# Convert CRS for Tissot's Circle to that of the \"world\" object.\n",
    "tissots = tissots.to_crs(world.crs) "
   ]
  },
  {
   "cell_type": "code",
   "execution_count": null,
   "id": "37bdb08c",
   "metadata": {
    "slideshow": {
     "slide_type": "slide"
    }
   },
   "outputs": [],
   "source": [
    "base = world.boundary.plot(color=\"black\")\n",
    "tissots.plot(ax=base)"
   ]
  },
  {
   "cell_type": "markdown",
   "id": "0125b475",
   "metadata": {
    "slideshow": {
     "slide_type": "slide"
    }
   },
   "source": [
    "### GeoPandas Accepted Definitions\n",
    "\n",
    "\n",
    "- CRS WKT string\n",
    "- __An authority string (i.e. “epsg:4326”)__\n",
    "- __An EPSG integer code (i.e. 4326)__\n",
    "- A pyproj.CRS\n",
    "- An object with a to_wkt method.\n",
    "- PROJ string\n",
    "- Dictionary of PROJ parameters\n",
    "- PROJ keyword arguments for parameters\n",
    "- JSON string with PROJ parameters\n",
    "\n",
    "<sup> source: https://geopandas.org/docs/user_guide/projections.html </sup>"
   ]
  },
  {
   "cell_type": "markdown",
   "id": "79d44806",
   "metadata": {
    "slideshow": {
     "slide_type": "slide"
    }
   },
   "source": [
    "### EPSG Codes\n",
    "\n",
    "You can find library of EPSG codes at:  \n",
    "https://epsg.io/  \n",
    "https://spatialreference.org/ref/epsg/"
   ]
  },
  {
   "cell_type": "markdown",
   "id": "5a882a7d",
   "metadata": {
    "slideshow": {
     "slide_type": "slide"
    }
   },
   "source": [
    "Lets's transform our CRS to \"NAD83 / Conus Albers\" - EPSG code 5070 (https://epsg.io/5070)"
   ]
  },
  {
   "cell_type": "code",
   "execution_count": null,
   "id": "29be0427",
   "metadata": {
    "slideshow": {
     "slide_type": "fragment"
    }
   },
   "outputs": [],
   "source": [
    "world_epsg5070 = world.to_crs(\"epsg:5070\")\n",
    "tissots_epsg5070 = tissots.to_crs(\"epsg:5070\")\n",
    "base = world_epsg5070.boundary.plot(color=\"black\")\n",
    "tissots_epsg5070.plot(ax=base)"
   ]
  },
  {
   "cell_type": "markdown",
   "id": "f3837b33",
   "metadata": {
    "slideshow": {
     "slide_type": "slide"
    }
   },
   "source": [
    "Lets's transfor our CRS to \"WGS 84 / Antarctic Polar Stereographic\" - EPSG code 3031 (https://epsg.io/3031)"
   ]
  },
  {
   "cell_type": "code",
   "execution_count": null,
   "id": "48e32691",
   "metadata": {
    "slideshow": {
     "slide_type": "fragment"
    }
   },
   "outputs": [],
   "source": [
    "world_epsg3031 = world.to_crs(\"epsg:3031\")\n",
    "tissots_epsg3031 = tissots.to_crs(\"epsg:3031\")\n",
    "\n",
    "base = world_epsg3031.boundary.plot(color=\"black\")\n",
    "tissots_epsg3031.plot(ax=base)"
   ]
  },
  {
   "cell_type": "markdown",
   "id": "062b7134",
   "metadata": {
    "slideshow": {
     "slide_type": "slide"
    }
   },
   "source": [
    "Let's calculate the area of Antarctica for each of these projections."
   ]
  },
  {
   "cell_type": "code",
   "execution_count": null,
   "id": "2f760845",
   "metadata": {
    "slideshow": {
     "slide_type": "fragment"
    }
   },
   "outputs": [],
   "source": [
    "world[world[\"continent\"] == \"Antarctica\"].area.sum()"
   ]
  },
  {
   "cell_type": "markdown",
   "id": "d745da1c",
   "metadata": {
    "slideshow": {
     "slide_type": "fragment"
    }
   },
   "source": [
    "Let's find out why...."
   ]
  },
  {
   "cell_type": "code",
   "execution_count": null,
   "id": "e4b7c980",
   "metadata": {
    "slideshow": {
     "slide_type": "slide"
    }
   },
   "outputs": [],
   "source": [
    "world.crs"
   ]
  },
  {
   "cell_type": "markdown",
   "id": "d674a551",
   "metadata": {
    "slideshow": {
     "slide_type": "slide"
    }
   },
   "source": [
    "Let's inspect the EPSG 5070 projection."
   ]
  },
  {
   "cell_type": "code",
   "execution_count": null,
   "id": "a222dece",
   "metadata": {
    "slideshow": {
     "slide_type": "fragment"
    }
   },
   "outputs": [],
   "source": [
    "world_epsg5070.crs"
   ]
  },
  {
   "cell_type": "code",
   "execution_count": null,
   "id": "b8923d89",
   "metadata": {
    "slideshow": {
     "slide_type": "slide"
    }
   },
   "outputs": [],
   "source": [
    "world_epsg3031.crs"
   ]
  },
  {
   "cell_type": "markdown",
   "id": "47ba87b7",
   "metadata": {
    "slideshow": {
     "slide_type": "slide"
    }
   },
   "source": [
    "Let's calculate the area of Antarctica with each projection and compare it to the true area. "
   ]
  },
  {
   "cell_type": "code",
   "execution_count": null,
   "id": "7fdc4f54",
   "metadata": {
    "slideshow": {
     "slide_type": "fragment"
    }
   },
   "outputs": [],
   "source": [
    "# True Antartica area is about 14.2 Million sq. kilometers\n",
    "true_area_antarctica = 14.2\n",
    "\n",
    "epsg5060_area_m = world_epsg5070[world_epsg5070[\"continent\"] == \"Antarctica\"].area.sum()\n",
    "epsg3031_area_m = world_epsg3031[world_epsg3031[\"continent\"] == \"Antarctica\"].area.sum()\n",
    "\n",
    "print(\"Difference between calculated area using a projection and true area of Antarctica.\\n\")\n",
    "print(\"EPSG 5060: \" + str(epsg5060_area_m/1000000**2 - true_area_antarctica) + \" million sq. km\")\n",
    "print(\"EPSG 3031: \" + str(epsg3031_area_m/1000000**2 - true_area_antarctica) + \" million sq. km\")"
   ]
  },
  {
   "cell_type": "markdown",
   "id": "d4198d61",
   "metadata": {
    "slideshow": {
     "slide_type": "slide"
    }
   },
   "source": [
    "# Selecting a Coordinate Reference System"
   ]
  },
  {
   "cell_type": "markdown",
   "id": "be68611a",
   "metadata": {
    "slideshow": {
     "slide_type": "slide"
    }
   },
   "source": [
    "###  Selecting CRS\n",
    "\n",
    "- __What CRS do I choose?__\n",
    "  - Check if institutions or organization requires the use of a specific CRS.\n",
    "  - Choose one that minimizes distortion characteristics important for your analysis.\n",
    "\n",
    "- __When to assign CRS?__\n",
    "  - GIS data does not have a CRS defined.\n",
    "    \n",
    "- __When to transform from one CRS to another CRS?__\n",
    "  - Prior to spatial processing of two layers.\n",
    "  - Plotting layers on a map.\n",
    "  - Some GIS tools expect projected data.\n"
   ]
  },
  {
   "cell_type": "markdown",
   "id": "1a65b21f",
   "metadata": {
    "slideshow": {
     "slide_type": "slide"
    }
   },
   "source": [
    "### Additional Resources\n",
    "\n",
    "- <a href=\"http://geokov.com/education/map-projection.aspx\">Map Projections - types and distortion patterns</a>\n",
    "- <a href=\"https://www.axismaps.com/guide/general/map-projections/\">Map Projections</a>\n",
    "- <a href=\"https://alastaira.wordpress.com/2011/01/23/the-google-maps-bing-maps-spherical-mercator-projection/\">The Google Maps / Bing Maps Spherical Mercator Projection</a>\n",
    "- <a href=\"http://bl.ocks.org/syntagmatic/raw/ba569633d51ebec6ec6e/\">Exploratory Projection Widget</a>\n",
    "- <a href=\"https://www.earthdatascience.org/\">Earth Lab</a>"
   ]
  },
  {
   "cell_type": "markdown",
   "id": "ee3d6141",
   "metadata": {
    "slideshow": {
     "slide_type": "slide"
    }
   },
   "source": [
    "# Questions?\n",
    "\n",
    "\n",
    "## Data Sources\n",
    "- Tissot Circle - https://mgimond.github.io/ArcGIS_tutorials/Tissot_circle.htm  \n",
    "- State Boundaries - https://www.census.gov/geographies/mapping-files/time-series/geo/carto-boundary-file.html\n",
    "- AK Ports and Harbors - https://gis.data.alaska.gov/datasets/DCCED::ports-and-harbors/about"
   ]
  }
 ],
 "metadata": {
  "celltoolbar": "Slideshow",
  "kernelspec": {
   "display_name": "Python 3 (ipykernel)",
   "language": "python",
   "name": "python3"
  },
  "language_info": {
   "codemirror_mode": {
    "name": "ipython",
    "version": 3
   },
   "file_extension": ".py",
   "mimetype": "text/x-python",
   "name": "python",
   "nbconvert_exporter": "python",
   "pygments_lexer": "ipython3",
   "version": "3.8.13"
  }
 },
 "nbformat": 4,
 "nbformat_minor": 5
}
